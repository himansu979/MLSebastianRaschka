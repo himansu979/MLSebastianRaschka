{
 "cells": [
  {
   "cell_type": "markdown",
   "metadata": {},
   "source": [
    "### Ch1: Giving Computers the Ability to Learn from Data"
   ]
  },
  {
   "cell_type": "markdown",
   "metadata": {},
   "source": [
    "Machine Learning is about making use of algorithms/models to spot patterns in data and make predictions about future events. It uses predictive models to gain knowledge from data and make data-driven decisions."
   ]
  },
  {
   "cell_type": "markdown",
   "metadata": {},
   "source": [
    "#### Three types of Machine Learning"
   ]
  },
  {
   "cell_type": "markdown",
   "metadata": {},
   "source": [
    "1. **Supervised Learning**\n",
    "  - Learn a model from labeled training data that allows us to make predictions about unseen or future data. Two types of supervised learning: Regression and Classification.\n",
    "  - Classification : output signal or target variable labels are discrete, means have few labels. special case is binary classification task, target variable has only two possible classes.\n",
    "  - Regression : output signal/target variable is continuous.\n",
    "2. **Unsupervised Learning**\n",
    "    - dealing with unlabeled data. we explore the structure of the data to extract meaningful information without guidance of a known outcome variable. Ex: Clustering; exploratory data analysis technique.\n",
    "3. **Reinforcement Learning**\n",
    "    - develop a system/agent that improves its performance based on interactions with the environment through a series of feedback maesured by a reward function."
   ]
  },
  {
   "cell_type": "markdown",
   "metadata": {},
   "source": [
    "<ol>\n",
    "<li> training samples/instances/observations </li>\n",
    "<li> Features/predictors/explanatory variables/attributes/measurements/dimensions </li>\n",
    "<li> response variable/target variable/outcome variable </li>\n",
    "</ol>\n",
    "\n",
    "dataset : each row is a sample and each column is a feature."
   ]
  },
  {
   "cell_type": "markdown",
   "metadata": {},
   "source": [
    "#### Linear Regression\n",
    "Given a predictor variable x and response variable y, fit a straight line to the data that minimizes the distance\n",
    "(average squared distance) between the sample points and fitted line."
   ]
  },
  {
   "cell_type": "markdown",
   "metadata": {},
   "source": [
    "### Iris dataset\n",
    "Iris dataset consists of 150 samples and 4 features\n",
    "$$x^i_j : i^{th} sample and j^{th} feature/dimension of the dataset.$$"
   ]
  },
  {
   "cell_type": "markdown",
   "metadata": {},
   "source": [
    "### Roadmap for building a machine learning System"
   ]
  },
  {
   "cell_type": "markdown",
   "metadata": {},
   "source": [
    "- Preprocessing : feature transformation, feature scaling, dimensionality reduction\n",
    "- Training and Testing dataset\n",
    "- metric to measure performance\n",
    "- cross-validation techniques - validation set\n",
    "- generalization performance\n",
    "- hyperparameter optimization technique\n",
    "- predict with unseen data - estimate generalization error"
   ]
  },
  {
   "cell_type": "markdown",
   "metadata": {},
   "source": [
    "### Import libraries"
   ]
  },
  {
   "cell_type": "code",
   "execution_count": 1,
   "metadata": {},
   "outputs": [
    {
     "name": "stdout",
     "output_type": "stream",
     "text": [
      "3.6.6 |Anaconda custom (64-bit)| (default, Jun 28 2018, 11:27:44) [MSC v.1900 64 bit (AMD64)]\n",
      "sys.version_info(major=3, minor=6, micro=6, releaselevel='final', serial=0)\n"
     ]
    }
   ],
   "source": [
    "import sys\n",
    "print(sys.version)\n",
    "print(sys.version_info)"
   ]
  },
  {
   "cell_type": "code",
   "execution_count": 2,
   "metadata": {},
   "outputs": [
    {
     "name": "stdout",
     "output_type": "stream",
     "text": [
      "3.6.6\n",
      "(3, 6, 6)\n"
     ]
    }
   ],
   "source": [
    "print(sys.version.split(\" \")[0])\n",
    "print(sys.version_info[0:3])"
   ]
  },
  {
   "cell_type": "code",
   "execution_count": 3,
   "metadata": {},
   "outputs": [
    {
     "data": {
      "text/plain": [
       "(False, True)"
      ]
     },
     "execution_count": 3,
     "metadata": {},
     "output_type": "execute_result"
    }
   ],
   "source": [
    "import six\n",
    "six.PY2, six.PY3"
   ]
  },
  {
   "cell_type": "code",
   "execution_count": 9,
   "metadata": {
    "collapsed": true
   },
   "outputs": [],
   "source": [
    "import numpy as np\n",
    "import pandas as pd\n",
    "import scipy\n",
    "import sklearn\n",
    "import matplotlib.pyplot as plt\n",
    "import seaborn as sns"
   ]
  },
  {
   "cell_type": "code",
   "execution_count": 10,
   "metadata": {},
   "outputs": [
    {
     "name": "stdout",
     "output_type": "stream",
     "text": [
      "NumPy 1.15.3\n",
      "SciPy 1.1.0\n",
      "scikit-learn 0.20.0\n",
      "matplotlib 2.2.2\n",
      "pandas 0.23.4\n",
      "seaborn 0.9.0\n"
     ]
    }
   ],
   "source": [
    "import matplotlib\n",
    "print(\"NumPy {}\".format(np.__version__))\n",
    "print(\"SciPy {}\".format(scipy.__version__))\n",
    "print(\"scikit-learn {}\".format(sklearn.__version__))\n",
    "print(\"matplotlib {}\".format(matplotlib.__version__))\n",
    "print(\"pandas {}\".format(pd.__version__))\n",
    "print(\"seaborn {}\".format(sns.__version__))"
   ]
  },
  {
   "cell_type": "code",
   "execution_count": 7,
   "metadata": {},
   "outputs": [
    {
     "data": {
      "text/plain": [
       "'\\nOLD\\nNumPy 1.14.2\\nSciPy 0.19.1\\nscikit-learn 0.19.0\\nmatplotlib 2.2.2\\npandas 0.20.3\\nseaborn 0.8.0'"
      ]
     },
     "execution_count": 7,
     "metadata": {},
     "output_type": "execute_result"
    }
   ],
   "source": [
    "\"\"\"\n",
    "OLD\n",
    "NumPy 1.14.2   ---> 1.15.3\n",
    "SciPy 0.19.1   ----> 1.10\n",
    "scikit-learn 0.19.0  ---> 0.20.0\n",
    "matplotlib 2.2.2  ---> same\n",
    "pandas 0.20.3  ---> 0.23.4\n",
    "seaborn 0.8.0 ---> 0.9.0\n",
    "\"\"\""
   ]
  },
  {
   "cell_type": "code",
   "execution_count": null,
   "metadata": {
    "collapsed": true
   },
   "outputs": [],
   "source": [
    "# pip list ---> will give python package and version downloaded by pip\n",
    "# conda list --> pacakge, version, build, both by conda and pip\n",
    "# conda list numpy --> will give all\n",
    "# numpy 1.15.3"
   ]
  }
 ],
 "metadata": {
  "kernelspec": {
   "display_name": "Python 3",
   "language": "python",
   "name": "python3"
  },
  "language_info": {
   "codemirror_mode": {
    "name": "ipython",
    "version": 3
   },
   "file_extension": ".py",
   "mimetype": "text/x-python",
   "name": "python",
   "nbconvert_exporter": "python",
   "pygments_lexer": "ipython3",
   "version": "3.6.6"
  }
 },
 "nbformat": 4,
 "nbformat_minor": 2
}
